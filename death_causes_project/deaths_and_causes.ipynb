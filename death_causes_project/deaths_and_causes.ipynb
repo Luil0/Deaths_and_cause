{
 "cells": [
  {
   "cell_type": "markdown",
   "id": "56a58136",
   "metadata": {},
   "source": [
    "# Deaths by State, Year, and Cause"
   ]
  },
  {
   "cell_type": "code",
   "execution_count": 2,
   "id": "eb2ca880",
   "metadata": {},
   "outputs": [],
   "source": [
    "import pandas as pd\n",
    "import numpy as np\n",
    "from matplotlib import pyplot as plt"
   ]
  },
  {
   "cell_type": "markdown",
   "id": "b70472ad",
   "metadata": {},
   "source": [
    "# Reading CSV file\n",
    "\n",
    "Read csv file with pandas and made into a DataFrame."
   ]
  },
  {
   "cell_type": "code",
   "execution_count": 3,
   "id": "e2cb569a",
   "metadata": {},
   "outputs": [
    {
     "data": {
      "text/html": [
       "<div>\n",
       "<style scoped>\n",
       "    .dataframe tbody tr th:only-of-type {\n",
       "        vertical-align: middle;\n",
       "    }\n",
       "\n",
       "    .dataframe tbody tr th {\n",
       "        vertical-align: top;\n",
       "    }\n",
       "\n",
       "    .dataframe thead th {\n",
       "        text-align: right;\n",
       "    }\n",
       "</style>\n",
       "<table border=\"1\" class=\"dataframe\">\n",
       "  <thead>\n",
       "    <tr style=\"text-align: right;\">\n",
       "      <th></th>\n",
       "      <th>Jurisdiction</th>\n",
       "      <th>Week Ending Date</th>\n",
       "      <th>State Abbreviation</th>\n",
       "      <th>Year</th>\n",
       "      <th>Week</th>\n",
       "      <th>Cause Group</th>\n",
       "      <th>Number of Deaths</th>\n",
       "      <th>Cause Subgroup</th>\n",
       "      <th>Time Period</th>\n",
       "      <th>Suppress</th>\n",
       "      <th>Note</th>\n",
       "      <th>Average Number of Deaths in Time Period</th>\n",
       "      <th>Difference from 2015-2019 to 2020</th>\n",
       "      <th>Percent Difference from 2015-2019 to 2020</th>\n",
       "      <th>Type</th>\n",
       "    </tr>\n",
       "  </thead>\n",
       "  <tbody>\n",
       "    <tr>\n",
       "      <th>0</th>\n",
       "      <td>Alabama</td>\n",
       "      <td>1/10/2015</td>\n",
       "      <td>AL</td>\n",
       "      <td>2015</td>\n",
       "      <td>1</td>\n",
       "      <td>Alzheimer disease and dementia</td>\n",
       "      <td>120.0</td>\n",
       "      <td>Alzheimer disease and dementia</td>\n",
       "      <td>2015-2019</td>\n",
       "      <td>NaN</td>\n",
       "      <td>NaN</td>\n",
       "      <td>103</td>\n",
       "      <td>NaN</td>\n",
       "      <td>NaN</td>\n",
       "      <td>Predicted (weighted)</td>\n",
       "    </tr>\n",
       "    <tr>\n",
       "      <th>1</th>\n",
       "      <td>Alabama</td>\n",
       "      <td>1/10/2015</td>\n",
       "      <td>AL</td>\n",
       "      <td>2015</td>\n",
       "      <td>1</td>\n",
       "      <td>Alzheimer disease and dementia</td>\n",
       "      <td>120.0</td>\n",
       "      <td>Alzheimer disease and dementia</td>\n",
       "      <td>2015-2019</td>\n",
       "      <td>NaN</td>\n",
       "      <td>NaN</td>\n",
       "      <td>103</td>\n",
       "      <td>NaN</td>\n",
       "      <td>NaN</td>\n",
       "      <td>Unweighted</td>\n",
       "    </tr>\n",
       "    <tr>\n",
       "      <th>2</th>\n",
       "      <td>Alabama</td>\n",
       "      <td>1/9/2016</td>\n",
       "      <td>AL</td>\n",
       "      <td>2016</td>\n",
       "      <td>1</td>\n",
       "      <td>Alzheimer disease and dementia</td>\n",
       "      <td>76.0</td>\n",
       "      <td>Alzheimer disease and dementia</td>\n",
       "      <td>2015-2019</td>\n",
       "      <td>NaN</td>\n",
       "      <td>NaN</td>\n",
       "      <td>103</td>\n",
       "      <td>NaN</td>\n",
       "      <td>NaN</td>\n",
       "      <td>Predicted (weighted)</td>\n",
       "    </tr>\n",
       "    <tr>\n",
       "      <th>3</th>\n",
       "      <td>Alabama</td>\n",
       "      <td>1/9/2016</td>\n",
       "      <td>AL</td>\n",
       "      <td>2016</td>\n",
       "      <td>1</td>\n",
       "      <td>Alzheimer disease and dementia</td>\n",
       "      <td>76.0</td>\n",
       "      <td>Alzheimer disease and dementia</td>\n",
       "      <td>2015-2019</td>\n",
       "      <td>NaN</td>\n",
       "      <td>NaN</td>\n",
       "      <td>103</td>\n",
       "      <td>NaN</td>\n",
       "      <td>NaN</td>\n",
       "      <td>Unweighted</td>\n",
       "    </tr>\n",
       "    <tr>\n",
       "      <th>4</th>\n",
       "      <td>Alabama</td>\n",
       "      <td>1/7/2017</td>\n",
       "      <td>AL</td>\n",
       "      <td>2017</td>\n",
       "      <td>1</td>\n",
       "      <td>Alzheimer disease and dementia</td>\n",
       "      <td>96.0</td>\n",
       "      <td>Alzheimer disease and dementia</td>\n",
       "      <td>2015-2019</td>\n",
       "      <td>NaN</td>\n",
       "      <td>NaN</td>\n",
       "      <td>103</td>\n",
       "      <td>NaN</td>\n",
       "      <td>NaN</td>\n",
       "      <td>Predicted (weighted)</td>\n",
       "    </tr>\n",
       "  </tbody>\n",
       "</table>\n",
       "</div>"
      ],
      "text/plain": [
       "  Jurisdiction Week Ending Date State Abbreviation  Year  Week  \\\n",
       "0      Alabama        1/10/2015                 AL  2015     1   \n",
       "1      Alabama        1/10/2015                 AL  2015     1   \n",
       "2      Alabama         1/9/2016                 AL  2016     1   \n",
       "3      Alabama         1/9/2016                 AL  2016     1   \n",
       "4      Alabama         1/7/2017                 AL  2017     1   \n",
       "\n",
       "                      Cause Group  Number of Deaths  \\\n",
       "0  Alzheimer disease and dementia             120.0   \n",
       "1  Alzheimer disease and dementia             120.0   \n",
       "2  Alzheimer disease and dementia              76.0   \n",
       "3  Alzheimer disease and dementia              76.0   \n",
       "4  Alzheimer disease and dementia              96.0   \n",
       "\n",
       "                   Cause Subgroup Time Period Suppress Note  \\\n",
       "0  Alzheimer disease and dementia   2015-2019      NaN  NaN   \n",
       "1  Alzheimer disease and dementia   2015-2019      NaN  NaN   \n",
       "2  Alzheimer disease and dementia   2015-2019      NaN  NaN   \n",
       "3  Alzheimer disease and dementia   2015-2019      NaN  NaN   \n",
       "4  Alzheimer disease and dementia   2015-2019      NaN  NaN   \n",
       "\n",
       "   Average Number of Deaths in Time Period  Difference from 2015-2019 to 2020  \\\n",
       "0                                      103                                NaN   \n",
       "1                                      103                                NaN   \n",
       "2                                      103                                NaN   \n",
       "3                                      103                                NaN   \n",
       "4                                      103                                NaN   \n",
       "\n",
       "   Percent Difference from 2015-2019 to 2020                  Type  \n",
       "0                                        NaN  Predicted (weighted)  \n",
       "1                                        NaN            Unweighted  \n",
       "2                                        NaN  Predicted (weighted)  \n",
       "3                                        NaN            Unweighted  \n",
       "4                                        NaN  Predicted (weighted)  "
      ]
     },
     "execution_count": 3,
     "metadata": {},
     "output_type": "execute_result"
    }
   ],
   "source": [
    "csv_file = pd.read_csv(\"Weekly_Counts_of_Death_by_Jurisdiction_and_Select_Causes_of_Death_new_file.csv\", low_memory=False)\n",
    "\n",
    "deaths_cause_df = pd.DataFrame(csv_file)\n",
    "deaths_cause_df.head(5)"
   ]
  },
  {
   "cell_type": "markdown",
   "id": "4205a565",
   "metadata": {},
   "source": [
    "Because I won't be using these columns or they don't have enough data I will be dropping them. "
   ]
  },
  {
   "cell_type": "code",
   "execution_count": 4,
   "id": "a8fa4f20",
   "metadata": {},
   "outputs": [],
   "source": [
    "deaths_cause_df.drop(deaths_cause_df.columns[[1, 8, 9, 10, 11, 12, 13 ]], inplace=True, axis=1)"
   ]
  },
  {
   "cell_type": "code",
   "execution_count": 5,
   "id": "1120d710",
   "metadata": {},
   "outputs": [
    {
     "data": {
      "text/plain": [
       "52"
      ]
     },
     "execution_count": 5,
     "metadata": {},
     "output_type": "execute_result"
    }
   ],
   "source": [
    "description = [\n",
    "[\"Jurisdiction\",\"Jurisdiction of occurrence\"],\n",
    "[\"Week Ending Date\",\"Week ending date\"],\n",
    "[\"State Abbreviation\",\"State abbreviation\"],\n",
    "[\"Year\",\"Year\"],\n",
    "[\"Week\",\"Week number\"],\n",
    "[\"Cause Group\",\"Cause group\"],\n",
    "[\"Number of Deaths\", \"Number of deaths\"],\n",
    "[\"Cause Subgroup\", \"Cause Subgroup\"],\n",
    "[\"Time Period\",\"Time period\"],\n",
    "[\"Suppress\",\"Flag for data suppression\"],\n",
    "[\"Note\",\"Note about data\"],\n",
    "[\"Average Number of Deaths in Time Period\",\"Average number of deaths in a given time period and week number\"],\n",
    "[\"Difference from 2015-2019 to 2020\",\"Difference in the number of deaths in 2020 relative to 2015-2019\"],\n",
    "[\"Percent Difference from 2015-2019 to 2020\",\"Percent difference in the number of deaths in 2020 relative to 2015-2019\"],\n",
    "[\"Type\", \"Estimate type (predicted or observed)\"]]\n",
    "\n",
    "column_desc = pd.DataFrame(description,columns=[\"column_name\",\"description\"])\n",
    "\n",
    "# changeing index to column name\n",
    "column_desc.set_index(\"column_name\", inplace=True)\n",
    "\n",
    "def find_desc(desc_name):\n",
    "    for word in column_desc.index:\n",
    "        if desc_name.lower() in word.lower():\n",
    "            return column_desc.loc[word]\n",
    "\n",
    "        \n",
    "# finding the description of our columns with either uppercase or lowercase words.\n",
    "find_desc(\"type\")\n",
    "\n",
    "deaths_cause_df[deaths_cause_df[\"Year\"] == 2021][\"Week\"].max()\n"
   ]
  },
  {
   "cell_type": "markdown",
   "id": "a090ea39",
   "metadata": {},
   "source": [
    "This section I removed duplicates by getting the unweighted number type because this is not predicted data this is the actual number of deaths. Then I did not include Puerto Rico because it is a U.S. territory. I also did not include the total number of deaths in the U.S. because I wanted to analyze data by state. I also excluded the year 2022 because we dont have number of deaths for the whole year."
   ]
  },
  {
   "cell_type": "code",
   "execution_count": 6,
   "id": "bcd1a1a1",
   "metadata": {},
   "outputs": [
    {
     "data": {
      "text/html": [
       "<div>\n",
       "<style scoped>\n",
       "    .dataframe tbody tr th:only-of-type {\n",
       "        vertical-align: middle;\n",
       "    }\n",
       "\n",
       "    .dataframe tbody tr th {\n",
       "        vertical-align: top;\n",
       "    }\n",
       "\n",
       "    .dataframe thead th {\n",
       "        text-align: right;\n",
       "    }\n",
       "</style>\n",
       "<table border=\"1\" class=\"dataframe\">\n",
       "  <thead>\n",
       "    <tr style=\"text-align: right;\">\n",
       "      <th></th>\n",
       "      <th>Jurisdiction</th>\n",
       "      <th>State Abbreviation</th>\n",
       "      <th>Year</th>\n",
       "      <th>Week</th>\n",
       "      <th>Cause Group</th>\n",
       "      <th>Number of Deaths</th>\n",
       "      <th>Cause Subgroup</th>\n",
       "      <th>Type</th>\n",
       "    </tr>\n",
       "  </thead>\n",
       "  <tbody>\n",
       "    <tr>\n",
       "      <th>1</th>\n",
       "      <td>Alabama</td>\n",
       "      <td>AL</td>\n",
       "      <td>2015</td>\n",
       "      <td>1</td>\n",
       "      <td>Alzheimer disease and dementia</td>\n",
       "      <td>120.0</td>\n",
       "      <td>Alzheimer disease and dementia</td>\n",
       "      <td>Unweighted</td>\n",
       "    </tr>\n",
       "    <tr>\n",
       "      <th>3</th>\n",
       "      <td>Alabama</td>\n",
       "      <td>AL</td>\n",
       "      <td>2016</td>\n",
       "      <td>1</td>\n",
       "      <td>Alzheimer disease and dementia</td>\n",
       "      <td>76.0</td>\n",
       "      <td>Alzheimer disease and dementia</td>\n",
       "      <td>Unweighted</td>\n",
       "    </tr>\n",
       "    <tr>\n",
       "      <th>5</th>\n",
       "      <td>Alabama</td>\n",
       "      <td>AL</td>\n",
       "      <td>2017</td>\n",
       "      <td>1</td>\n",
       "      <td>Alzheimer disease and dementia</td>\n",
       "      <td>96.0</td>\n",
       "      <td>Alzheimer disease and dementia</td>\n",
       "      <td>Unweighted</td>\n",
       "    </tr>\n",
       "    <tr>\n",
       "      <th>7</th>\n",
       "      <td>Alabama</td>\n",
       "      <td>AL</td>\n",
       "      <td>2018</td>\n",
       "      <td>1</td>\n",
       "      <td>Alzheimer disease and dementia</td>\n",
       "      <td>108.0</td>\n",
       "      <td>Alzheimer disease and dementia</td>\n",
       "      <td>Unweighted</td>\n",
       "    </tr>\n",
       "    <tr>\n",
       "      <th>9</th>\n",
       "      <td>Alabama</td>\n",
       "      <td>AL</td>\n",
       "      <td>2019</td>\n",
       "      <td>1</td>\n",
       "      <td>Alzheimer disease and dementia</td>\n",
       "      <td>115.0</td>\n",
       "      <td>Alzheimer disease and dementia</td>\n",
       "      <td>Unweighted</td>\n",
       "    </tr>\n",
       "    <tr>\n",
       "      <th>...</th>\n",
       "      <td>...</td>\n",
       "      <td>...</td>\n",
       "      <td>...</td>\n",
       "      <td>...</td>\n",
       "      <td>...</td>\n",
       "      <td>...</td>\n",
       "      <td>...</td>\n",
       "      <td>...</td>\n",
       "    </tr>\n",
       "    <tr>\n",
       "      <th>432309</th>\n",
       "      <td>Wisconsin</td>\n",
       "      <td>WI</td>\n",
       "      <td>2016</td>\n",
       "      <td>52</td>\n",
       "      <td>Respiratory diseases</td>\n",
       "      <td>30.0</td>\n",
       "      <td>Other diseases of the respiratory system</td>\n",
       "      <td>Unweighted</td>\n",
       "    </tr>\n",
       "    <tr>\n",
       "      <th>432311</th>\n",
       "      <td>Wisconsin</td>\n",
       "      <td>WI</td>\n",
       "      <td>2017</td>\n",
       "      <td>52</td>\n",
       "      <td>Respiratory diseases</td>\n",
       "      <td>20.0</td>\n",
       "      <td>Other diseases of the respiratory system</td>\n",
       "      <td>Unweighted</td>\n",
       "    </tr>\n",
       "    <tr>\n",
       "      <th>432313</th>\n",
       "      <td>Wisconsin</td>\n",
       "      <td>WI</td>\n",
       "      <td>2018</td>\n",
       "      <td>52</td>\n",
       "      <td>Respiratory diseases</td>\n",
       "      <td>27.0</td>\n",
       "      <td>Other diseases of the respiratory system</td>\n",
       "      <td>Unweighted</td>\n",
       "    </tr>\n",
       "    <tr>\n",
       "      <th>432315</th>\n",
       "      <td>Wisconsin</td>\n",
       "      <td>WI</td>\n",
       "      <td>2019</td>\n",
       "      <td>52</td>\n",
       "      <td>Respiratory diseases</td>\n",
       "      <td>23.0</td>\n",
       "      <td>Other diseases of the respiratory system</td>\n",
       "      <td>Unweighted</td>\n",
       "    </tr>\n",
       "    <tr>\n",
       "      <th>432317</th>\n",
       "      <td>Wisconsin</td>\n",
       "      <td>WI</td>\n",
       "      <td>2020</td>\n",
       "      <td>53</td>\n",
       "      <td>Respiratory diseases</td>\n",
       "      <td>15.0</td>\n",
       "      <td>Other diseases of the respiratory system</td>\n",
       "      <td>Unweighted</td>\n",
       "    </tr>\n",
       "  </tbody>\n",
       "</table>\n",
       "<p>184271 rows × 8 columns</p>\n",
       "</div>"
      ],
      "text/plain": [
       "       Jurisdiction State Abbreviation  Year  Week  \\\n",
       "1           Alabama                 AL  2015     1   \n",
       "3           Alabama                 AL  2016     1   \n",
       "5           Alabama                 AL  2017     1   \n",
       "7           Alabama                 AL  2018     1   \n",
       "9           Alabama                 AL  2019     1   \n",
       "...             ...                ...   ...   ...   \n",
       "432309    Wisconsin                 WI  2016    52   \n",
       "432311    Wisconsin                 WI  2017    52   \n",
       "432313    Wisconsin                 WI  2018    52   \n",
       "432315    Wisconsin                 WI  2019    52   \n",
       "432317    Wisconsin                 WI  2020    53   \n",
       "\n",
       "                           Cause Group  Number of Deaths  \\\n",
       "1       Alzheimer disease and dementia             120.0   \n",
       "3       Alzheimer disease and dementia              76.0   \n",
       "5       Alzheimer disease and dementia              96.0   \n",
       "7       Alzheimer disease and dementia             108.0   \n",
       "9       Alzheimer disease and dementia             115.0   \n",
       "...                                ...               ...   \n",
       "432309            Respiratory diseases              30.0   \n",
       "432311            Respiratory diseases              20.0   \n",
       "432313            Respiratory diseases              27.0   \n",
       "432315            Respiratory diseases              23.0   \n",
       "432317            Respiratory diseases              15.0   \n",
       "\n",
       "                                  Cause Subgroup        Type  \n",
       "1                 Alzheimer disease and dementia  Unweighted  \n",
       "3                 Alzheimer disease and dementia  Unweighted  \n",
       "5                 Alzheimer disease and dementia  Unweighted  \n",
       "7                 Alzheimer disease and dementia  Unweighted  \n",
       "9                 Alzheimer disease and dementia  Unweighted  \n",
       "...                                          ...         ...  \n",
       "432309  Other diseases of the respiratory system  Unweighted  \n",
       "432311  Other diseases of the respiratory system  Unweighted  \n",
       "432313  Other diseases of the respiratory system  Unweighted  \n",
       "432315  Other diseases of the respiratory system  Unweighted  \n",
       "432317  Other diseases of the respiratory system  Unweighted  \n",
       "\n",
       "[184271 rows x 8 columns]"
      ]
     },
     "execution_count": 6,
     "metadata": {},
     "output_type": "execute_result"
    }
   ],
   "source": [
    "# using unweighted deaths because they are the real deaths not predicted and that would be duplicate years.\n",
    "death_cause_unweighted = deaths_cause_df[(deaths_cause_df[\"Type\"] == \"Unweighted\") & (deaths_cause_df[\"Jurisdiction\"] != \"Puerto Rico\") & (deaths_cause_df[\"Jurisdiction\"] != \"United States\") & (deaths_cause_df[\"Year\"]!= 2022)]\n",
    "\n",
    "# making dataset into a csv so I can look at in in tableau.\n",
    "death_cause_unweighted.to_csv(\"deaths_and_cause_dataset.csv\", index=False)\n",
    "\n",
    "# Total deaths in the unweighted dataset\n",
    "total_deaths = death_cause_unweighted[\"Number of Deaths\"].sum()\n",
    "\n",
    "len_years = len(death_cause_unweighted[\"Year\"].unique())\n",
    "\n",
    "# average number of deaths in our dataset\n",
    "avg_deaths = f\"{total_deaths/len_years:,}\"\n",
    "avg_deaths\n",
    "\n",
    "deaths_each_year = death_cause_unweighted[[\"Year\", \"Number of Deaths\"]].groupby(\"Year\").sum()\n",
    "\n",
    "death_cause_unweighted\n",
    "\n"
   ]
  },
  {
   "cell_type": "code",
   "execution_count": 7,
   "id": "49426de8",
   "metadata": {},
   "outputs": [
    {
     "name": "stdout",
     "output_type": "stream",
     "text": [
      "Max:Cause Group         Respiratory diseases\n",
      "Number of Deaths               6045946.0\n",
      "dtype: object\n",
      "\n",
      "Min:Cause Group         Alzheimer disease and dementia\n",
      "Number of Deaths                         1151841.0\n",
      "dtype: object\n"
     ]
    }
   ],
   "source": [
    "# number of deaths that each cause group had\n",
    "deaths_per_cause = death_cause_unweighted[[\"Cause Group\", \"Number of Deaths\"]].groupby(\"Cause Group\").sum(\"Number of Deaths\")\n",
    "deaths_per_cause.reset_index(inplace=True)\n",
    "\n",
    "print(f\"Max:{deaths_per_cause.max()}\\n\\nMin:{deaths_per_cause.min()}\")\n"
   ]
  },
  {
   "cell_type": "code",
   "execution_count": 8,
   "id": "997e071f",
   "metadata": {},
   "outputs": [
    {
     "name": "stdout",
     "output_type": "stream",
     "text": [
      "Max:Jurisdiction          Wyoming\n",
      "Number of Deaths    1496298.0\n",
      "dtype: object\n",
      "\n",
      "Min:Jurisdiction        Alabama\n",
      "Number of Deaths     8318.0\n",
      "dtype: object\n"
     ]
    },
    {
     "data": {
      "text/plain": [
       "8318.0"
      ]
     },
     "execution_count": 8,
     "metadata": {},
     "output_type": "execute_result"
    }
   ],
   "source": [
    "# number of total deaths in each state\n",
    "num_deaths_by_state = death_cause_unweighted[[\"Jurisdiction\", \"Number of Deaths\"]].groupby(\"Jurisdiction\").sum(\"Number of Deaths\")\n",
    "num_deaths_by_state.reset_index(inplace=True)\n",
    "\n",
    "\n",
    "print(f\"Max:{num_deaths_by_state.max()}\\n\\nMin:{num_deaths_by_state.min()}\")\n",
    "num_deaths_by_state[\"Number of Deaths\"].min()\n"
   ]
  },
  {
   "cell_type": "code",
   "execution_count": 9,
   "id": "173c92e5",
   "metadata": {},
   "outputs": [
    {
     "data": {
      "image/png": "[encoded data removed]",
      "text/plain": [
       "<Figure size 720x576 with 1 Axes>"
      ]
     },
     "metadata": {
      "needs_background": "light"
     },
     "output_type": "display_data"
    }
   ],
   "source": [
    "plt.figure(figsize=(10,8))\n",
    "\n",
    "num_deaths_sorted = deaths_per_cause.sort_values(by=\"Number of Deaths\")\n",
    "\n",
    "\n",
    "plt.bar(range(len(num_deaths_sorted)), num_deaths_sorted[\"Number of Deaths\"])\n",
    "\n",
    "ax = plt.subplot()\n",
    "\n",
    "ax.set_xticks(range(len(num_deaths_sorted[\"Cause Group\"])))\n",
    "ax.set_xticklabels(num_deaths_sorted[\"Cause Group\"])\n",
    "\n",
    "plt.xticks(rotation=45)\n",
    "\n",
    "plt.ylabel(\"Number of Deaths in Milions\")\n",
    "plt.xlabel(\"Cause Group\")\n",
    "\n",
    "plt.savefig(\"deaths_per_cause_barchart.png\")\n",
    "\n",
    "plt.show()\n",
    "plt.close()"
   ]
  },
  {
   "cell_type": "code",
   "execution_count": 10,
   "id": "a3370932",
   "metadata": {},
   "outputs": [],
   "source": [
    "num_deaths_by_state.to_csv(\"deaths_by_state.csv\", index=False)"
   ]
  },
  {
   "cell_type": "code",
   "execution_count": 11,
   "id": "7d1ee82a",
   "metadata": {},
   "outputs": [
    {
     "data": {
      "image/png": "[encoded data removed]",
      "text/plain": [
       "<Figure size 720x576 with 1 Axes>"
      ]
     },
     "metadata": {
      "needs_background": "light"
     },
     "output_type": "display_data"
    }
   ],
   "source": [
    "# Deaths by year\n",
    "\n",
    "\n",
    "deaths_by_year_sorted = death_cause_unweighted[[\"Year\", \"Number of Deaths\"]].groupby(\"Year\").sum(\"Number of Deaths\").sort_values(by=\"Year\")\n",
    "\n",
    "\n",
    "\n",
    "\n",
    "\n",
    "deaths_by_year_sorted.reset_index(inplace = True)\n",
    "\n",
    "\n",
    "years = deaths_by_year_sorted[\"Year\"]\n",
    "deaths_every_year = deaths_by_year_sorted[\"Number of Deaths\"]\n",
    "\n",
    "\n",
    "plt.figure(figsize=(10,8))\n",
    "\n",
    "plt.plot(range(len(deaths_every_year)), deaths_every_year)\n",
    "\n",
    "ax = plt.subplot()\n",
    "\n",
    "ax.set_xticks(range(len(years)))\n",
    "ax.set_xticklabels(years)\n",
    "\n",
    "plt.xlabel(\"Years\")\n",
    "plt.ylabel(\"Deaths in Millions\")\n",
    "plt.show()\n",
    "plt.close()\n"
   ]
  },
  {
   "cell_type": "code",
   "execution_count": 12,
   "id": "de4efbb2",
   "metadata": {},
   "outputs": [
    {
     "data": {
      "text/plain": [
       "6"
      ]
     },
     "execution_count": 12,
     "metadata": {},
     "output_type": "execute_result"
    },
    {
     "data": {
      "image/png": "[encoded data removed]",
      "text/plain": [
       "<Figure size 432x288 with 1 Axes>"
      ]
     },
     "metadata": {
      "needs_background": "light"
     },
     "output_type": "display_data"
    }
   ],
   "source": [
    "deaths_by_week =  death_cause_unweighted[[\"Week\", \"Number of Deaths\"]].groupby(\"Week\").sum(\"Number of Deaths\")\n",
    "deaths_by_week.reset_index(inplace = True)\n",
    "\n",
    "\n",
    "num_deaths_week_no_min = deaths_by_week[deaths_by_week[\"Week\"] != 53]\n",
    "num_deaths_week_no_min\n",
    "\n",
    "num_deaths_weeks = num_deaths_week_no_min[\"Number of Deaths\"]\n",
    "\n",
    "\n",
    "plt.hist(num_deaths_weeks, bins=6)\n",
    "\n",
    "plt.ylabel(\"Number of Weeks\")\n",
    "plt.xlabel(\"Number of Deaths\")\n",
    "\n",
    "len(num_deaths_week_no_min[(num_deaths_week_no_min[\"Number of Deaths\"] > 310000) & (num_deaths_week_no_min[\"Number of Deaths\"] <  320000)])"
   ]
  },
  {
   "cell_type": "code",
   "execution_count": null,
   "id": "f4904f91",
   "metadata": {},
   "outputs": [],
   "source": []
  },
  {
   "cell_type": "code",
   "execution_count": null,
   "id": "3bb91d13",
   "metadata": {},
   "outputs": [],
   "source": []
  },
  {
   "cell_type": "code",
   "execution_count": null,
   "id": "15b62971",
   "metadata": {},
   "outputs": [],
   "source": []
  },
  {
   "cell_type": "code",
   "execution_count": null,
   "id": "be2f011c",
   "metadata": {},
   "outputs": [],
   "source": []
  }
 ],
 "metadata": {
  "kernelspec": {
   "display_name": "Python 3 (ipykernel)",
   "language": "python",
   "name": "python3"
  },
  "language_info": {
   "codemirror_mode": {
    "name": "ipython",
    "version": 3
   },
   "file_extension": ".py",
   "mimetype": "text/x-python",
   "name": "python",
   "nbconvert_exporter": "python",
   "pygments_lexer": "ipython3",
   "version": "3.9.7"
  }
 },
 "nbformat": 4,
 "nbformat_minor": 5
}
